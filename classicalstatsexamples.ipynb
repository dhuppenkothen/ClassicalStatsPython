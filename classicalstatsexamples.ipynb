{
 "metadata": {
  "kernelspec": {
   "codemirror_mode": {
    "name": "ipython",
    "version": 2
   },
   "display_name": "IPython (Python 2)",
   "language": "python",
   "name": "python2"
  },
  "name": "",
  "signature": "sha256:a79588fba3a3ef488c5651b1260a62f741db68bac2a1f3629ae9e9641f915aa4"
 },
 "nbformat": 3,
 "nbformat_minor": 0,
 "worksheets": [
  {
   "cells": [
    {
     "cell_type": "heading",
     "level": 1,
     "metadata": {},
     "source": [
      "Classical Statistics in Python"
     ]
    },
    {
     "cell_type": "markdown",
     "metadata": {},
     "source": [
      "This notebook is intended for the newcomer to scientific inference in the classical (frequentist) statistics framework. Below is a number of simple explanations (which by no means replace a good textbook; see literature suggestions at the end) interspersed with bits of (interactive) python code aimed at illustrating key concepts on the one hand, and allowing the user to become familiar with simple statistical computations in python. \n",
      "\n",
      "Some familiarity with python would be helpful for understanding the code below, but much of it, especially the interactive sections, can be understood without. Introductions into python on the internet abound, see the list of literature at the end for a few suggestions."
     ]
    },
    {
     "cell_type": "code",
     "collapsed": false,
     "input": [
      "%matplotlib inline\n",
      "import matplotlib.pyplot as plt\n",
      "import numpy as np\n",
      "import scipy.stats\n",
      "import scipy.optimize"
     ],
     "language": "python",
     "metadata": {},
     "outputs": [],
     "prompt_number": 1
    },
    {
     "cell_type": "heading",
     "level": 2,
     "metadata": {},
     "source": [
      "Simple Representations of Data"
     ]
    },
    {
     "cell_type": "markdown",
     "metadata": {},
     "source": [
      "On the simplest level, any data set can be represented very simply with just a few numbers : mean, median, variance are among the most popular ones, but the \"best\" representation depends on the problem at hand. Also popular are quantiles: these measure the point where the cumulative distribution function takes a given quantile value (this is also the point up to which the probability density function integrates to that quantile).\n",
      "\n",
      "Most of those are really easy to do in python:"
     ]
    },
    {
     "cell_type": "code",
     "collapsed": false,
     "input": [
      "## create s random normally distributed numbers with a mean of 2 and a standard deviation of 2\n",
      "s = 10000\n",
      "sample = np.random.normal(2,2, size=s) \n",
      "sample = np.random.chisquare(4, size=s)\n",
      "sample = np.random.poisson(20, size=s)\n",
      "\n",
      "mn = np.mean(sample)\n",
      "md = np.median(sample)\n",
      "vr = np.var(sample)\n",
      "st = np.std(sample)\n",
      "\n",
      "## import quantiles from scipy\n",
      "from scipy.stats.mstats import mquantiles as quantiles\n",
      "\n",
      "## a popular choice are the 0.25, 0.5 and 0.75 quantiles\n",
      "qn = quantiles(sample, [0.25, 0.5, 0.75])\n",
      "\n",
      "fig, (ax1, ax2, ax3) = \n",
      "\n",
      "## print results\n",
      "print(\"The sample mean is is: %.4f\"%mn)\n",
      "print(\"The sample median should be similar (for a symmetric distribution): %.4f\"%md)\n",
      "print(\"The sample variance is: %.4f\"%vr)\n",
      "print(\"The sample standard deviation should be sqrt(variance): %.4f\"%st)\n",
      "print(\"The 0.25 quantile is : %.4f\"%qn[0])\n",
      "print(\"The 0.5 quantile should be the same as the median: %.4f\"%qn[1])\n",
      "print(\"The 0.25 quantile is : %.4f\"%qn[0])\n"
     ],
     "language": "python",
     "metadata": {},
     "outputs": [
      {
       "output_type": "stream",
       "stream": "stdout",
       "text": [
        "The sample mean is is: 2.0186\n",
        "The sample median should be similar (for a symmetric distribution): 2.0765\n",
        "The sample variance is: 4.2490\n",
        "The sample standard deviation should be sqrt(variance): 2.0613\n",
        "The 0.25 quantile is : 0.5817\n",
        "The 0.5 quantile should be the same as the median: 2.0765\n",
        "The 0.25 quantile is : 0.5817\n"
       ]
      }
     ],
     "prompt_number": 2
    },
    {
     "cell_type": "heading",
     "level": 2,
     "metadata": {},
     "source": [
      "Accuracy Versus Precision"
     ]
    },
    {
     "cell_type": "markdown",
     "metadata": {},
     "source": [
      "[Definition of accuracy versus precision]\n",
      "\n",
      "The plot below demonstrates the principles of accuracy and precision defined above. Imagine you have two quantities, $a$ and $b$, whose true values are $a=1$ and $b=2$. We collect data with a given *accuracy* (which encodes your systematic bias, for example due to an incomplete model or an error in the instrument that measured the data) and *precision* (which encodes the random error on the data, perhaps due to measurement uncertainty or due to the source itself).\n",
      "\n",
      "The left panel shows a sample of measured data points with a specified accuracy and precision, scattered in parameter space together with the true value. As you increase the value for accuracy, the sample as a whole moves away from the true value more and more. Conversely, if the ac"
     ]
    },
    {
     "cell_type": "code",
     "collapsed": false,
     "input": [
      "\n",
      "## TODO: put in some labels and arrows for accuracy and precision\n",
      "## TODO: Add sliders\n",
      "def plot_ap(accuracy, precision):\n",
      "    \n",
      "    # Hardcoded values good for illustration\n",
      "    a_true = 1.0\n",
      "    b_true = 2.0\n",
      "    xlim = (-2, 4)\n",
      "    ylim = (-1, 5)\n",
      "    \n",
      "    # So users get an intuitive idea of '0==low', '1==high'\n",
      "    accuracy, precision = np.clip(1-np.array([accuracy, precision]), 0.001, 1)\n",
      "    \n",
      "    xsample = np.random.normal(a_true+2*accuracy, precision**2.0, size=10000)\n",
      "    xsample_small = xsample[:500]\n",
      "\n",
      "    ysample = np.random.normal(b_true+2*accuracy, precision**2.0, size=10000)\n",
      "    ysample_small = ysample[:500]\n",
      "    \n",
      "    fig, (ax, ax2) = plt.subplots(1, 2, figsize=(14,6))\n",
      "    plt.subplots_adjust(top=0.9, bottom=0.1, left=0.06, right=0.97, wspace=0.12, hspace=0.1)\n",
      "\n",
      "    ax.scatter(xsample_small, ysample_small, s=20, c=\"black\")\n",
      "    ax.scatter(a_true, b_true, s=200, c=\"red\")\n",
      "    ax.set_xlim(xlim)\n",
      "    ax.set_ylim(ylim)\n",
      "    ax.set_xlabel(\"a\", fontsize=30)\n",
      "    ax.set_ylabel(\"b\", fontsize=30)\n",
      "    \n",
      "    h1, b1, p1 = plt.hist(xsample, bins=100, color=\"black\", histtype=\"stepfilled\", alpha=0.6, normed=True)\n",
      "    plt.vlines(a_true, 0.0, np.max(h1), lw=6, color=\"red\")\n",
      "    ax2.set_xlim(xlim)\n",
      "    ax2.set_ylim([0.0, np.max(h1)*1.1])\n",
      "    ax2.set_xlabel(\"a\", fontsize=24)\n",
      "    ax2.set_ylabel(\"p(a)\", fontsize=24)\n",
      "    return\n",
      "\n",
      "#accuracy = 0.5\n",
      "#precision = 0.5\n",
      "#plot_ap(accuracy, precision)"
     ],
     "language": "python",
     "metadata": {},
     "outputs": [],
     "prompt_number": 24
    },
    {
     "cell_type": "code",
     "collapsed": false,
     "input": [
      "from IPython.html.widgets import interact\n",
      "interact(plot_ap, accuracy=(0, 1.0), precision=(0, 1.0));"
     ],
     "language": "python",
     "metadata": {},
     "outputs": [
      {
       "metadata": {},
       "output_type": "display_data",
       "png": "[encoded data removed]",
       "text": [
        "<matplotlib.figure.Figure at 0x570d590>"
       ]
      }
     ],
     "prompt_number": 25
    },
    {
     "cell_type": "heading",
     "level": 2,
     "metadata": {},
     "source": [
      "Basic Probability Theory"
     ]
    },
    {
     "cell_type": "heading",
     "level": 2,
     "metadata": {},
     "source": [
      "Set Theory Stuff"
     ]
    },
    {
     "cell_type": "markdown",
     "metadata": {},
     "source": [
      "   "
     ]
    },
    {
     "cell_type": "heading",
     "level": 2,
     "metadata": {},
     "source": [
      "Conditional Probabilities"
     ]
    },
    {
     "cell_type": "markdown",
     "metadata": {},
     "source": [
      "[some probability explanations]\n",
      "[circles](http://mathworld.wolfram.com/Circle-CircleIntersection.html)"
     ]
    },
    {
     "cell_type": "code",
     "collapsed": false,
     "input": [
      "def circle_intersection(r1, r2, d):\n",
      "    tinner_left = (d**2. + r2**2. - r1**2.)/(2.*d*r2)\n",
      "    tinner_right = (d**2. + r1**2. - r2**2.)/(2.*d*r1)\n",
      "\n",
      "    if d >= (r1 + r2):\n",
      "        area = 0.0   \n",
      "    elif r2 <= (r1+d):\n",
      "        area = (r2**2.)*np.arccos(tinner_left) + (r1**2.)*np.arccos(tinner_right) \\\n",
      "            - 0.5*np.sqrt((-d+r2+r1)*(d+r2-r1)*(d+r1-r2)*(d+r1+r2))\n",
      "    else:\n",
      "        area = np.pi*r1**2.\n",
      "            \n",
      "    return area"
     ],
     "language": "python",
     "metadata": {},
     "outputs": [],
     "prompt_number": 140
    },
    {
     "cell_type": "code",
     "collapsed": false,
     "input": [
      "import numpy.testing as npt\n",
      "\n",
      "def check_circle(r1):\n",
      "    r2 = 0.5*r1\n",
      "    npt.assert_allclose(circle_intersection(r1,r2,r1+r2), 0.0)\n",
      "    npt.assert_allclose(circle_intersection(r1,r2, r1-r2), np.pi*r2**2.)\n",
      "    return"
     ],
     "language": "python",
     "metadata": {},
     "outputs": [],
     "prompt_number": 141
    },
    {
     "cell_type": "code",
     "collapsed": false,
     "input": [
      "def test_circle():\n",
      "    for r in (1,2,3):\n",
      "        check_circle(r)\n",
      "        \n",
      "test_circle()"
     ],
     "language": "python",
     "metadata": {},
     "outputs": [],
     "prompt_number": 142
    },
    {
     "cell_type": "code",
     "collapsed": false,
     "input": [
      "def draw_circles(r2):\n",
      "    xlim = (-0.25,.75)\n",
      "    ylim = (-0.5,.5)\n",
      "\n",
      "    a1 = 0.05\n",
      "    r1 = np.sqrt(a1/np.pi)\n",
      "    print(\"r1: \" + str(r1))\n",
      "\n",
      "    offset = 0.25\n",
      "    d = 2.*offset\n",
      "\n",
      "    fig, ax = plt.subplots(figsize=(9,9), subplot_kw=dict(axisbg=\"#F2F5A9\"))\n",
      "\n",
      "    ax.set_xlim(xlim)\n",
      "    ax.set_ylim(ylim)\n",
      "    ax.set_aspect('equal')\n",
      "\n",
      "    c1 = plt.Circle((0, 0), r1, facecolor=\"blue\", fill=True, alpha=0.6 )\n",
      "    ax.text(0-0.02,0-0.02, \"A\", color='black', fontsize=30)\n",
      "    c2 = plt.Circle((offset, 0), r2, facecolor=\"red\", fill=True, alpha=0.6 )\n",
      "    ax.text(offset-0.01,0-0.02, \"B\", color='black', fontsize=30)\n",
      "\n",
      "    ax.add_artist(c1)\n",
      "    ax.add_artist(c2)\n",
      "    \n",
      "    probabilities(r1, r2, offset)\n",
      "    return\n",
      "\n",
      "def probabilities(ra, rb, offset):\n",
      "    square_area = 1\n",
      "\n",
      "    aa = np.pi*ra**2.\n",
      "    print(\"P(a): \" + str(aa))\n",
      "    ab = np.pi*rb**2.\n",
      "    print(\"P(b): \" + str(ab))\n",
      "    ab_complement = 1.0 - ab\n",
      "    print(\"complement: \" +str(ab_complement))    \n",
      "    \n",
      "    intersection = circle_intersection(ra, rb, offset)\n",
      "    print(\"intersection: \" +str(intersection))\n",
      "    union = aa + ab - intersection\n",
      "    print(\"union: \" +str(union))\n",
      "\n",
      "    agivenb = intersection/ab\n",
      "    print(\"P(a|b): \" + str(agivenb))\n",
      "    bgivena = intersection/aa\n",
      "    print(\"P(b|a): \" + str(bgivena))\n",
      "    \n",
      "    return aa, ab, ab_complement, intersection, union, agivenb, bgivena\n",
      "#probabilities(0.1)"
     ],
     "language": "python",
     "metadata": {},
     "outputs": [],
     "prompt_number": 143
    },
    {
     "cell_type": "code",
     "collapsed": false,
     "input": [
      "interact(draw_circles, r2=(0.001,0.5), precision=(0, 1.0));"
     ],
     "language": "python",
     "metadata": {},
     "outputs": [
      {
       "output_type": "stream",
       "stream": "stdout",
       "text": [
        "r1: 0.126156626101\n",
        "P(a): 0.05\n",
        "P(b): 0.0320473866593\n",
        "complement: 0.967952613341\n",
        "intersection: 0.0\n",
        "union: 0.0820473866593\n",
        "P(a|b): 0.0\n",
        "P(b|a): 0.0\n"
       ]
      },
      {
       "metadata": {},
       "output_type": "display_data",
       "png": "[encoded data removed]",
       "text": [
        "<matplotlib.figure.Figure at 0x3eb0c90>"
       ]
      }
     ],
     "prompt_number": 144
    },
    {
     "cell_type": "markdown",
     "metadata": {},
     "source": [
      "The bar toggles the radius of circle $B$."
     ]
    },
    {
     "cell_type": "heading",
     "level": 2,
     "metadata": {},
     "source": [
      "Statistical Distributions in Numpy and Scipy"
     ]
    },
    {
     "cell_type": "markdown",
     "metadata": {},
     "source": [
      "Both numpy and scipy have many of the most useful standard distributions already in their code base. You've already seen above how to quickly and easily make random numbers in numpy. If that's all you want (and this can be incredibly powerful for producing simulated data), you're good to go. \n",
      "\n",
      "However, scipy can do more. In scipy.stats, there are classes for many distributions, which have methods that can do a whole lot more than just produce random numbers for you! \n",
      "For example, to produce an instance of a normal distribution with \"frozen\" parameters (mean=2, standard deviation=2 here), goes like this:"
     ]
    },
    {
     "cell_type": "code",
     "collapsed": false,
     "input": [
      "import scipy.stats\n",
      "n = scipy.stats.norm(2, 4)"
     ],
     "language": "python",
     "metadata": {},
     "outputs": []
    },
    {
     "cell_type": "markdown",
     "metadata": {},
     "source": [
      "You can now use this distribution in various ways. For example, to plot the pdf and cdf, you can do this:"
     ]
    },
    {
     "cell_type": "code",
     "collapsed": false,
     "input": [
      "## define some x coordinates\n",
      "x = np.linspace(-10, 20, 2000)\n",
      "\n",
      "## make a figure\n",
      "fig = figure(figsize=(12,6))\n",
      "ax = fig.add_subplot(121)\n",
      "plot(x, n.pdf(x))\n",
      "ax.set_title(\"PDF\")\n",
      "\n",
      "ax2 = fig.add_subplot(122)\n",
      "plot(x, n.cdf(x))\n",
      "ax.set_title(\"CDF\")\n"
     ],
     "language": "python",
     "metadata": {},
     "outputs": []
    },
    {
     "cell_type": "markdown",
     "metadata": {},
     "source": [
      "Similarly, it allows you to play around with the mean, median, standard deviation and other moments. \n",
      "\n",
      "Something else that might be useful is the capability of fitting a distribution to a data sample:"
     ]
    },
    {
     "cell_type": "code",
     "collapsed": false,
     "input": [
      "## let's make another sample\n",
      "sample = np.random.normal(2,2,size=1000)\n",
      "\n",
      "## now fit a normal distribution to the sample with the \n",
      "## fit method of the norm class\n",
      "f = scipy.stats.norm.fit(sample)\n",
      "\n",
      "print(\"The fit parameter for the mean of the distribution is: %.4f\"%f[0])\n",
      "print(\"The fit parameter for the standard deviation of the distribution is: %.4f\"%f[1])"
     ],
     "language": "python",
     "metadata": {},
     "outputs": [],
     "prompt_number": 2
    },
    {
     "cell_type": "heading",
     "level": 2,
     "metadata": {},
     "source": [
      "Likelihood Functions"
     ]
    },
    {
     "cell_type": "markdown",
     "metadata": {},
     "source": [
      "Estimating the best-fit parameters of a distribution is one of the standard problems in astronomy. Numpy and scipy have many different tools for this available already. In the following, we're going to play around with a Poisson likelihood for a while. The Poisson distribution is useful anywhere where you have discrete, rare events. These can be, for example, particle in a detector, car accidents, or other data sets like these. \n",
      "\n",
      "Because likelihood functions can have quite large and small values, we'll work with the log-likelihood without loss of any capabilities in inferring from the data. \n",
      "\n",
      "First, we define the log-likelihood. Then we make some Poisson sample data, with a rate parameter of 5. This could be, for example, a count rate in a photon detector detecting of the order of 5 photons per second. "
     ]
    },
    {
     "cell_type": "code",
     "collapsed": false,
     "input": [
      "def poisson_loglike(rate, data):\n",
      "    ## make rate parameter into array of same length as data:\n",
      "    r = np.ones(len(data))*rate\n",
      "    ## now we can compute the log-likelihood:\n",
      "    llike = -np.sum(r) + np.sum(data*np.log(r))-np.sum(scipy.special.gammaln(data + 1))\n",
      "    return llike\n",
      "\n",
      "\n",
      "sample = np.random.poisson(10, size=10000)"
     ],
     "language": "python",
     "metadata": {},
     "outputs": [],
     "prompt_number": 50
    },
    {
     "cell_type": "markdown",
     "metadata": {},
     "source": [
      "I'll leave it to you to verify that the expression in the definition of the likelihood function is indeed that of the Poisson likelihood for N samples. \n",
      "\n",
      "Now, let's have a look at the shape of the likelihood. We'll use the first 100 events from our sample:"
     ]
    },
    {
     "cell_type": "code",
     "collapsed": false,
     "input": [
      "\n",
      "## return likelihood for sample s for a bunch of guesses\n",
      "def guess_like(s):\n",
      "    guesses = np.arange(100)\n",
      "    like_all = [poisson_loglike(g, s) for g in guesses]\n",
      "    return like_all\n",
      "\n",
      "fig = figure(figsize=(12,12))\n",
      "for i,n in enumerate([1, 10, 100, 10000]):\n",
      "    ax = fig.add_subplot(2,2,(i+1))\n",
      "    plot(np.arange(100), np.array(guess_like(sample[:n])), color=\"black\", label=\"%i samples\"%n)\n",
      "\n"
     ],
     "language": "python",
     "metadata": {},
     "outputs": [
      {
       "metadata": {},
       "output_type": "display_data",
       "png": "[encoded data removed]",
       "text": [
        "<matplotlib.figure.Figure at 0x10ccf2890>"
       ]
      }
     ],
     "prompt_number": 51
    },
    {
     "cell_type": "markdown",
     "metadata": {},
     "source": [
      "As more data points are included, the values close to that from which the data was drawn (here, a rate parameter of 5).\n",
      "\n",
      "Usually, our models are more complex than a simple distribution with one or two parameters. Say you have a spectrum and want to fit a spectral model. You have pretty good data, so you can approximate it with a Gaussian distribution. \n",
      "scipy already gives you the tools you need to do this. scipy.optimize allows you to find the minimum of a given function.\n",
      "For weighted least squares, scipy.optimize.curve_fit will do the trick:"
     ]
    },
    {
     "cell_type": "code",
     "collapsed": false,
     "input": [
      "## define a straight line function:\n",
      "def straight(x, a, b):\n",
      "    return x*a + b\n",
      "\n",
      "## x-coordinate\n",
      "x = np.linspace(0, 10, 1000)\n",
      "\n",
      "## some data\n",
      "a = -2\n",
      "b = 3\n",
      "y = straight(x, a, b)\n",
      "\n",
      "## add some random Gaussian noise:\n",
      "data = np.random.normal(0, 2, size=len(x))+y\n",
      "\n",
      "## fit straight line to data:\n",
      "popt, pcov = scipy.optimize.curve_fit(straight, x, data)\n",
      "\n",
      "print(\"Fit straight line data with a=-2, b=3\")\n",
      "print(\"Fitted parameter a is %.3f\"%popt[0])\n",
      "print(\"Fitted parameter b is %.3f\"%popt[1])"
     ],
     "language": "python",
     "metadata": {},
     "outputs": [
      {
       "output_type": "stream",
       "stream": "stdout",
       "text": [
        "Fit straight line data with a=-2, b=3\n",
        "Fitted parameter a is -1.993\n",
        "Fitted parameter b is 2.924\n"
       ]
      }
     ],
     "prompt_number": 53
    },
    {
     "cell_type": "markdown",
     "metadata": {},
     "source": [
      "curve_fit also gives you the covariance matrix, which is really handy, because it allows you to estimate the errors on the parameters you've just derived, by taking the square root of the diagonal of the covariance matrix. Taking the square root will give you the estimated standard deviation on the parameter. "
     ]
    },
    {
     "cell_type": "code",
     "collapsed": false,
     "input": [
      "errors = np.sqrt(np.diag(pcov))\n",
      "print(\"Fitted parameter a with error is %.3f +/- %.3f\"%(popt[0], errors[0]))\n",
      "print(\"Fitted parameter b with error is %.3f +/- %.3f\"%(popt[1], errors[1]))"
     ],
     "language": "python",
     "metadata": {},
     "outputs": [
      {
       "output_type": "stream",
       "stream": "stdout",
       "text": [
        "Fitted parameter a with error is -1.993 +/- 0.023\n",
        "Fitted parameter b with error is 2.924 +/- 0.130\n"
       ]
      }
     ],
     "prompt_number": 54
    },
    {
     "cell_type": "markdown",
     "metadata": {},
     "source": [
      "However, it is also possible to use likelihood functions other than Gaussian ones. In this case, define the log-likelihood explicitly and use one of scipy.optimize's many minimisation routines. Be sure to minimise the *negative* log-likelihood!\n",
      "\n",
      "Recall the Poisson likelihood from earlier. Instead of plotting the log-likelihood and finding the maximum on the plot, we can estimate it by minimising the negative log-likelihood:"
     ]
    },
    {
     "cell_type": "code",
     "collapsed": false,
     "input": [
      "sample = np.random.poisson(5, size=10000)\n",
      "\n",
      "## define the -log-likelihood\n",
      "neg_poisson = lambda r: -poisson_loglike(r, sample)\n",
      "\n",
      "## minimise using Powell's algorithm, starting value for rate parameter is 10\n",
      "result = scipy.optimize.fmin_powell(neg_poisson, 10, full_output=True)\n",
      "\n",
      "print(\"The fit-parameter for the Poisson rate parameter: %.3f \"%result[0])\n"
     ],
     "language": "python",
     "metadata": {},
     "outputs": [
      {
       "output_type": "stream",
       "stream": "stdout",
       "text": [
        "Optimization terminated successfully.\n",
        "         Current function value: 22094.062420\n",
        "         Iterations: 2\n",
        "         Function evaluations: 24\n",
        "The fit-parameter for the Poisson rate parameter: 4.996 \n"
       ]
      },
      {
       "output_type": "stream",
       "stream": "stderr",
       "text": [
        "-c:5: RuntimeWarning: invalid value encountered in log\n"
       ]
      }
     ],
     "prompt_number": 55
    },
    {
     "cell_type": "markdown",
     "metadata": {},
     "source": [
      "There are quite a large range of optimisation routines available in scipy.optimize. All of them have certain strengths and weaknesses. I invite you to have a look in the documentation, and to play around with some of the algorithms to see which works for a given problem. "
     ]
    },
    {
     "cell_type": "heading",
     "level": 2,
     "metadata": {},
     "source": [
      "Significance Tests"
     ]
    },
    {
     "cell_type": "heading",
     "level": 3,
     "metadata": {},
     "source": [
      "Pearson's Chi-Square Test"
     ]
    },
    {
     "cell_type": "code",
     "collapsed": false,
     "input": [],
     "language": "python",
     "metadata": {},
     "outputs": []
    },
    {
     "cell_type": "heading",
     "level": 3,
     "metadata": {},
     "source": [
      "Sigmas"
     ]
    },
    {
     "cell_type": "code",
     "collapsed": false,
     "input": [],
     "language": "python",
     "metadata": {},
     "outputs": [],
     "prompt_number": 55
    },
    {
     "cell_type": "heading",
     "level": 2,
     "metadata": {},
     "source": [
      "Hypothesis Tests"
     ]
    },
    {
     "cell_type": "code",
     "collapsed": false,
     "input": [],
     "language": "python",
     "metadata": {},
     "outputs": [],
     "prompt_number": 56
    },
    {
     "cell_type": "heading",
     "level": 2,
     "metadata": {},
     "source": [
      "Errors"
     ]
    },
    {
     "cell_type": "code",
     "collapsed": false,
     "input": [],
     "language": "python",
     "metadata": {},
     "outputs": [],
     "prompt_number": 57
    },
    {
     "cell_type": "heading",
     "level": 2,
     "metadata": {},
     "source": [
      "Model Selection "
     ]
    },
    {
     "cell_type": "code",
     "collapsed": false,
     "input": [],
     "language": "python",
     "metadata": {},
     "outputs": [],
     "prompt_number": 57
    },
    {
     "cell_type": "heading",
     "level": 3,
     "metadata": {},
     "source": [
      "Monte Carlo Simulations"
     ]
    },
    {
     "cell_type": "code",
     "collapsed": false,
     "input": [],
     "language": "python",
     "metadata": {},
     "outputs": []
    },
    {
     "cell_type": "heading",
     "level": 2,
     "metadata": {},
     "source": [
      "Literature"
     ]
    },
    {
     "cell_type": "markdown",
     "metadata": {},
     "source": [
      "Below some literature suggestions. This list is by no means exhaustive; we welcome additional suggestions!\n",
      "Books are marked by **(b)**, papers are marked by a **(p)**\n",
      "\n",
      "Statistics:\n",
      "- Simon Vaughan: Scientific Inference, Cambridge University Press (Sept, 2013) **(b)**\n",
      "- \u017deljko Ivezi\u0107, Andrew J. Connolly, Jacob T. VanderPlas & Alexander Gray: \n",
      "  Statistics, Data Mining and Machine Learning in Astronomy, Princeton University Press (2014) **(b)** \n",
      "- David Hogg (arxiv, 2012): Data analysis recipes: Probability calculus for inference [eprint](http://arxiv.org/abs/1205.4446) **(p)**\n",
      "- Protassov+ (ApJ, 2002): Statistics, Handle with Care: Detecting Multiple Model Components\n",
      "  with the Likelihood Ratio Test [eprint](http://arxiv.org/abs/astro-ph/0201547)  **(p)**\n",
      "- Roberto Trotta (2008): Bayes in the sky: Bayesian inference and model selection in cosmology [eprint](http://arxiv.org/abs/0803.4089)  **(p)**\n",
      "- Andrew Liddle (2007): Information criteria for astrophysical model selection [eprint](http://arxiv.org/abs/astro-ph/0701113)  **(p)**\n",
      "    \n"
     ]
    },
    {
     "cell_type": "code",
     "collapsed": false,
     "input": [],
     "language": "python",
     "metadata": {},
     "outputs": []
    }
   ],
   "metadata": {}
  }
 ]
}